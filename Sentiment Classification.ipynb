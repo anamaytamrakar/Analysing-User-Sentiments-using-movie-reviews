{
 "cells": [
  {
   "cell_type": "code",
   "execution_count": 1,
   "metadata": {
    "colab": {
     "base_uri": "https://localhost:8080/",
     "height": 54
    },
    "colab_type": "code",
    "executionInfo": {
     "elapsed": 1281,
     "status": "ok",
     "timestamp": 1597837875489,
     "user": {
      "displayName": "Anamay tamrakar",
      "photoUrl": "https://lh3.googleusercontent.com/a-/AOh14GhquhLUHnKEDe6-3g6DT_G8Wu17P9ZKYAQbxLx7qw=s64",
      "userId": "03768491071577504839"
     },
     "user_tz": -330
    },
    "id": "WgVyb-XPhZg_",
    "outputId": "b45a3901-05ff-4dc9-d9fb-86cf71679956"
   },
   "outputs": [
    {
     "name": "stdout",
     "output_type": "stream",
     "text": [
      "Drive already mounted at /content/drive; to attempt to forcibly remount, call drive.mount(\"/content/drive\", force_remount=True).\n"
     ]
    }
   ],
   "source": [
    "from google.colab import drive\n",
    "drive.mount('/content/drive')"
   ]
  },
  {
   "cell_type": "markdown",
   "metadata": {
    "colab_type": "text",
    "id": "OudB5by50jlI"
   },
   "source": [
    "# Sentiment Classification"
   ]
  },
  {
   "cell_type": "markdown",
   "metadata": {
    "colab_type": "text",
    "id": "xT7MKZuMRaCg"
   },
   "source": [
    "### Dataset\n",
    "- Dataset of 50,000 movie reviews from IMDB, labeled by sentiment positive (1) or negative (0)\n",
    "- Reviews have been preprocessed, and each review is encoded as a sequence of word indexes (integers).\n",
    "- For convenience, words are indexed by overall frequency in the dataset, so that for instance the integer \"3\" encodes the 3rd most frequent word in the data. This allows for quick filtering operations such as: \"only consider the top 10,000 most common words, but eliminate the top 20 most common words\".\n",
    "- As a convention, \"0\" does not stand for a specific word, but instead is used to encode any unknown word.\n",
    "\n",
    "Command to import data\n",
    "- `from tensorflow.keras.datasets import imdb`"
   ]
  },
  {
   "cell_type": "markdown",
   "metadata": {
    "colab_type": "text",
    "id": "Q34-Y3nRKXdO"
   },
   "source": [
    "### Importing the data"
   ]
  },
  {
   "cell_type": "code",
   "execution_count": 2,
   "metadata": {
    "colab": {},
    "colab_type": "code",
    "executionInfo": {
     "elapsed": 7625,
     "status": "ok",
     "timestamp": 1597837881853,
     "user": {
      "displayName": "Anamay tamrakar",
      "photoUrl": "https://lh3.googleusercontent.com/a-/AOh14GhquhLUHnKEDe6-3g6DT_G8Wu17P9ZKYAQbxLx7qw=s64",
      "userId": "03768491071577504839"
     },
     "user_tz": -330
    },
    "id": "JxfwbrbuKbk2"
   },
   "outputs": [],
   "source": [
    "#### Add your code here ####\n",
    "import numpy as np\n",
    "from keras.preprocessing import sequence\n",
    "from keras.models import Sequential\n",
    "from keras.layers import Dense, Embedding, Conv1D, GlobalMaxPool1D, LSTM, TimeDistributed, Flatten\n",
    "from matplotlib import pyplot\n",
    "from tensorflow.keras.datasets import imdb\n",
    "\n",
    "(X_train, y_train), (X_test, y_test) = imdb.load_data(num_words=10000, maxlen=300)"
   ]
  },
  {
   "cell_type": "code",
   "execution_count": 3,
   "metadata": {
    "colab": {
     "base_uri": "https://localhost:8080/",
     "height": 85
    },
    "colab_type": "code",
    "executionInfo": {
     "elapsed": 7613,
     "status": "ok",
     "timestamp": 1597837881854,
     "user": {
      "displayName": "Anamay tamrakar",
      "photoUrl": "https://lh3.googleusercontent.com/a-/AOh14GhquhLUHnKEDe6-3g6DT_G8Wu17P9ZKYAQbxLx7qw=s64",
      "userId": "03768491071577504839"
     },
     "user_tz": -330
    },
    "id": "GIKRRNDSXTP9",
    "outputId": "c024342f-dfb9-46f1-a87c-85f1ad3095a9"
   },
   "outputs": [
    {
     "name": "stdout",
     "output_type": "stream",
     "text": [
      "(19051,)\n",
      "(19450,)\n",
      "[1 0 0 ... 0 1 0]\n",
      "[0 1 0 ... 0 0 0]\n"
     ]
    }
   ],
   "source": [
    "print(X_train.shape)\n",
    "print(X_test.shape)\n",
    "print(y_train)\n",
    "print(y_test)"
   ]
  },
  {
   "cell_type": "code",
   "execution_count": 4,
   "metadata": {
    "colab": {
     "base_uri": "https://localhost:8080/",
     "height": 51
    },
    "colab_type": "code",
    "executionInfo": {
     "elapsed": 7598,
     "status": "ok",
     "timestamp": 1597837881855,
     "user": {
      "displayName": "Anamay tamrakar",
      "photoUrl": "https://lh3.googleusercontent.com/a-/AOh14GhquhLUHnKEDe6-3g6DT_G8Wu17P9ZKYAQbxLx7qw=s64",
      "userId": "03768491071577504839"
     },
     "user_tz": -330
    },
    "id": "WNQRn9YbXg_X",
    "outputId": "fff6dffd-3d80-4376-9908-d72d936c753d"
   },
   "outputs": [
    {
     "name": "stdout",
     "output_type": "stream",
     "text": [
      "Labels: \n",
      "[0 1]\n"
     ]
    }
   ],
   "source": [
    "# Summarize number of Labels\n",
    "print(\"Labels: \")\n",
    "print(np.unique(y_train))"
   ]
  },
  {
   "cell_type": "code",
   "execution_count": 5,
   "metadata": {
    "colab": {
     "base_uri": "https://localhost:8080/",
     "height": 51
    },
    "colab_type": "code",
    "executionInfo": {
     "elapsed": 7583,
     "status": "ok",
     "timestamp": 1597837881857,
     "user": {
      "displayName": "Anamay tamrakar",
      "photoUrl": "https://lh3.googleusercontent.com/a-/AOh14GhquhLUHnKEDe6-3g6DT_G8Wu17P9ZKYAQbxLx7qw=s64",
      "userId": "03768491071577504839"
     },
     "user_tz": -330
    },
    "id": "J0AGD3QvGD0Q",
    "outputId": "3ca003a4-f8a4-416b-d628-bc6a5f38762e"
   },
   "outputs": [
    {
     "name": "stdout",
     "output_type": "stream",
     "text": [
      "Max length of sequence in X_train: 299\n",
      "Max length of sequence in X_test:  299\n"
     ]
    }
   ],
   "source": [
    "X_train_max_len = max(len(x) for x in X_train)\n",
    "print(\"Max length of sequence in X_train: {}\".format(X_train_max_len))\n",
    "\n",
    "X_test_max_len = max(len(x) for x in X_test)\n",
    "print(\"Max length of sequence in X_test:  {}\".format(X_test_max_len))"
   ]
  },
  {
   "cell_type": "markdown",
   "metadata": {
    "colab_type": "text",
    "id": "DldivBO4LTbP"
   },
   "source": [
    "### Padding each sentence to be of same length"
   ]
  },
  {
   "cell_type": "code",
   "execution_count": 6,
   "metadata": {
    "colab": {
     "base_uri": "https://localhost:8080/",
     "height": 299
    },
    "colab_type": "code",
    "executionInfo": {
     "elapsed": 7562,
     "status": "ok",
     "timestamp": 1597837881857,
     "user": {
      "displayName": "Anamay tamrakar",
      "photoUrl": "https://lh3.googleusercontent.com/a-/AOh14GhquhLUHnKEDe6-3g6DT_G8Wu17P9ZKYAQbxLx7qw=s64",
      "userId": "03768491071577504839"
     },
     "user_tz": -330
    },
    "id": "E808XB4tLtic",
    "outputId": "e85c6d9b-5edb-48b5-d8c6-579b9aaf4fe5"
   },
   "outputs": [
    {
     "name": "stdout",
     "output_type": "stream",
     "text": [
      "Review length: \n",
      "Mean 159.68 words (60.730229)\n"
     ]
    },
    {
     "data": {
      "image/png": "[encoded data removed]",
      "text/plain": [
       "<Figure size 432x288 with 1 Axes>"
      ]
     },
     "metadata": {
      "needs_background": "light",
      "tags": []
     },
     "output_type": "display_data"
    }
   ],
   "source": [
    "# Summarize review length\n",
    "print(\"Review length: \")\n",
    "result = [len(x) for x in X_train]\n",
    "print(\"Mean %.2f words (%f)\" % (np.mean(result), np.std(result)))\n",
    "# plot review length\n",
    "pyplot.boxplot(result)\n",
    "pyplot.show()\n",
    "\n",
    "# we can see that max reviews are under the 500 characters mark"
   ]
  },
  {
   "cell_type": "code",
   "execution_count": 7,
   "metadata": {
    "colab": {},
    "colab_type": "code",
    "executionInfo": {
     "elapsed": 7548,
     "status": "ok",
     "timestamp": 1597837881858,
     "user": {
      "displayName": "Anamay tamrakar",
      "photoUrl": "https://lh3.googleusercontent.com/a-/AOh14GhquhLUHnKEDe6-3g6DT_G8Wu17P9ZKYAQbxLx7qw=s64",
      "userId": "03768491071577504839"
     },
     "user_tz": -330
    },
    "id": "cLwVSYgaKBfz"
   },
   "outputs": [],
   "source": [
    "#padding to 300 length\n",
    "X_train_padded = sequence.pad_sequences(X_train, maxlen=300)\n",
    "X_test_padded = sequence.pad_sequences(X_test, maxlen=300)"
   ]
  },
  {
   "cell_type": "markdown",
   "metadata": {
    "colab_type": "text",
    "id": "JBFFCrybMSXz"
   },
   "source": [
    "### Print shape of features & labels"
   ]
  },
  {
   "cell_type": "markdown",
   "metadata": {
    "colab_type": "text",
    "id": "qOcyRtZfMYZd"
   },
   "source": [
    "Number of review, number of words in each review"
   ]
  },
  {
   "cell_type": "code",
   "execution_count": 8,
   "metadata": {
    "colab": {
     "base_uri": "https://localhost:8080/",
     "height": 51
    },
    "colab_type": "code",
    "executionInfo": {
     "elapsed": 7536,
     "status": "ok",
     "timestamp": 1597837881859,
     "user": {
      "displayName": "Anamay tamrakar",
      "photoUrl": "https://lh3.googleusercontent.com/a-/AOh14GhquhLUHnKEDe6-3g6DT_G8Wu17P9ZKYAQbxLx7qw=s64",
      "userId": "03768491071577504839"
     },
     "user_tz": -330
    },
    "id": "hdMCUPr7RaCm",
    "outputId": "216b6302-db2a-4569-cb85-8d40a725becc"
   },
   "outputs": [
    {
     "name": "stdout",
     "output_type": "stream",
     "text": [
      "Number of reviews in x_train: 19051\n",
      "Number of reviews in x_test: 19450\n"
     ]
    }
   ],
   "source": [
    "\n",
    "# summarize size\n",
    "# number of reviews\n",
    "print(\"Number of reviews in x_train: {}\".format(len(X_train)))\n",
    "print(\"Number of reviews in x_test: {}\".format(len(X_test)))\n",
    "#print(\"Padded Training and Test data: \")\n",
    "#print(len(X_train.shape))\n",
    "#print(len(X_test.shape))"
   ]
  },
  {
   "cell_type": "code",
   "execution_count": 9,
   "metadata": {
    "colab": {
     "base_uri": "https://localhost:8080/",
     "height": 34
    },
    "colab_type": "code",
    "executionInfo": {
     "elapsed": 7512,
     "status": "ok",
     "timestamp": 1597837881859,
     "user": {
      "displayName": "Anamay tamrakar",
      "photoUrl": "https://lh3.googleusercontent.com/a-/AOh14GhquhLUHnKEDe6-3g6DT_G8Wu17P9ZKYAQbxLx7qw=s64",
      "userId": "03768491071577504839"
     },
     "user_tz": -330
    },
    "id": "eGVHeKOWyJiG",
    "outputId": "8fc7b91b-6fa8-49d8-c101-f0820fa8fc67"
   },
   "outputs": [
    {
     "name": "stdout",
     "output_type": "stream",
     "text": [
      "Number of words in each review is 300\n"
     ]
    }
   ],
   "source": [
    "\n",
    "# number of words in each review\n",
    "print(\"Number of words in each review is {0}\".format(X_train_padded[0].shape[0]))"
   ]
  },
  {
   "cell_type": "markdown",
   "metadata": {
    "colab_type": "text",
    "id": "5cNk5sDvMr3j"
   },
   "source": [
    "Number of labels"
   ]
  },
  {
   "cell_type": "code",
   "execution_count": 10,
   "metadata": {
    "colab": {
     "base_uri": "https://localhost:8080/",
     "height": 34
    },
    "colab_type": "code",
    "executionInfo": {
     "elapsed": 7500,
     "status": "ok",
     "timestamp": 1597837881860,
     "user": {
      "displayName": "Anamay tamrakar",
      "photoUrl": "https://lh3.googleusercontent.com/a-/AOh14GhquhLUHnKEDe6-3g6DT_G8Wu17P9ZKYAQbxLx7qw=s64",
      "userId": "03768491071577504839"
     },
     "user_tz": -330
    },
    "id": "6Z00-mYgMoKv",
    "outputId": "ec4f0576-e1bf-46b6-ef8d-502cc69161dd"
   },
   "outputs": [
    {
     "data": {
      "text/plain": [
       "(19051,)"
      ]
     },
     "execution_count": 10,
     "metadata": {
      "tags": []
     },
     "output_type": "execute_result"
    }
   ],
   "source": [
    "\n",
    "y_train.shape"
   ]
  },
  {
   "cell_type": "code",
   "execution_count": 23,
   "metadata": {
    "colab": {
     "base_uri": "https://localhost:8080/",
     "height": 51
    },
    "colab_type": "code",
    "executionInfo": {
     "elapsed": 1194,
     "status": "ok",
     "timestamp": 1597837972953,
     "user": {
      "displayName": "Anamay tamrakar",
      "photoUrl": "https://lh3.googleusercontent.com/a-/AOh14GhquhLUHnKEDe6-3g6DT_G8Wu17P9ZKYAQbxLx7qw=s64",
      "userId": "03768491071577504839"
     },
     "user_tz": -330
    },
    "id": "H7f5tPeaMxti",
    "outputId": "37bc0d34-d25f-4d8a-f7ec-7a13d404f756"
   },
   "outputs": [
    {
     "name": "stdout",
     "output_type": "stream",
     "text": [
      "Unique Labels: \n",
      "[0 1]\n"
     ]
    }
   ],
   "source": [
    "\n",
    "y_test.shape\n",
    "print(\"Unique Labels: \")\n",
    "print(np.unique(y_train))"
   ]
  },
  {
   "cell_type": "markdown",
   "metadata": {
    "colab_type": "text",
    "id": "NdXPWuOmNEbh"
   },
   "source": [
    "### Print value of any one feature and it's label"
   ]
  },
  {
   "cell_type": "markdown",
   "metadata": {
    "colab_type": "text",
    "id": "MGLEdeFmNZfR"
   },
   "source": [
    "Feature value"
   ]
  },
  {
   "cell_type": "code",
   "execution_count": 24,
   "metadata": {
    "colab": {
     "base_uri": "https://localhost:8080/",
     "height": 54
    },
    "colab_type": "code",
    "executionInfo": {
     "elapsed": 1288,
     "status": "ok",
     "timestamp": 1597837996635,
     "user": {
      "displayName": "Anamay tamrakar",
      "photoUrl": "https://lh3.googleusercontent.com/a-/AOh14GhquhLUHnKEDe6-3g6DT_G8Wu17P9ZKYAQbxLx7qw=s64",
      "userId": "03768491071577504839"
     },
     "user_tz": -330
    },
    "id": "RKFyMa28zztL",
    "outputId": "bee33d7a-250f-4ef9-efb2-b21bc591d69e"
   },
   "outputs": [
    {
     "name": "stdout",
     "output_type": "stream",
     "text": [
      "Value of the 100th review: [1, 14, 9, 6, 389, 20, 19, 6, 253, 1096, 65, 5, 4, 6891, 7, 1181, 3855, 5, 4, 620, 756, 7, 803, 674, 11, 113, 97, 14, 6, 55, 467, 2525, 20, 92, 387, 4, 2, 7, 4, 182, 2, 25, 39, 319, 14, 2065, 47, 389, 388, 5, 13, 594, 33, 4, 192, 15, 212, 9, 115, 2525, 88, 156, 40, 2065, 97, 170, 39, 486, 8, 622, 1801, 168, 6529, 776, 87, 20, 32, 187]\n"
     ]
    }
   ],
   "source": [
    "\n",
    "print(\"Value of the 100th review:\" ,X_train[100])"
   ]
  },
  {
   "cell_type": "markdown",
   "metadata": {
    "colab_type": "text",
    "id": "h_85Hqm0Nb1I"
   },
   "source": [
    "Label value"
   ]
  },
  {
   "cell_type": "code",
   "execution_count": 25,
   "metadata": {
    "colab": {
     "base_uri": "https://localhost:8080/",
     "height": 34
    },
    "colab_type": "code",
    "executionInfo": {
     "elapsed": 1219,
     "status": "ok",
     "timestamp": 1597838010254,
     "user": {
      "displayName": "Anamay tamrakar",
      "photoUrl": "https://lh3.googleusercontent.com/a-/AOh14GhquhLUHnKEDe6-3g6DT_G8Wu17P9ZKYAQbxLx7qw=s64",
      "userId": "03768491071577504839"
     },
     "user_tz": -330
    },
    "id": "-FoehB5jNd1g",
    "outputId": "6cc51076-0d77-4f05-911c-aac75846cd7a"
   },
   "outputs": [
    {
     "name": "stdout",
     "output_type": "stream",
     "text": [
      "Sentiment Label: 1\n"
     ]
    }
   ],
   "source": [
    "\n",
    "print(\"Sentiment Label:\", y_train[100])"
   ]
  },
  {
   "cell_type": "markdown",
   "metadata": {
    "colab_type": "text",
    "id": "0cof4LSxNxuv"
   },
   "source": [
    "### Decoding the feature value to get original sentence"
   ]
  },
  {
   "cell_type": "markdown",
   "metadata": {
    "colab_type": "text",
    "id": "Q_oiAyPZOkJD"
   },
   "source": [
    "First, retrieve a dictionary that contains mapping of words to their index in the IMDB dataset"
   ]
  },
  {
   "cell_type": "code",
   "execution_count": 14,
   "metadata": {
    "colab": {},
    "colab_type": "code",
    "executionInfo": {
     "elapsed": 8325,
     "status": "ok",
     "timestamp": 1597837882749,
     "user": {
      "displayName": "Anamay tamrakar",
      "photoUrl": "https://lh3.googleusercontent.com/a-/AOh14GhquhLUHnKEDe6-3g6DT_G8Wu17P9ZKYAQbxLx7qw=s64",
      "userId": "03768491071577504839"
     },
     "user_tz": -330
    },
    "id": "Clsk-yK8OtzD"
   },
   "outputs": [],
   "source": [
    "\n",
    "imdb_wordindex = imdb.get_word_index()"
   ]
  },
  {
   "cell_type": "markdown",
   "metadata": {
    "colab_type": "text",
    "id": "NRgOD5S2Uuvd"
   },
   "source": [
    "Now use the dictionary to get the original words from the encodings, for a particular sentence"
   ]
  },
  {
   "cell_type": "code",
   "execution_count": 15,
   "metadata": {
    "colab": {
     "base_uri": "https://localhost:8080/",
     "height": 34
    },
    "colab_type": "code",
    "executionInfo": {
     "elapsed": 8316,
     "status": "ok",
     "timestamp": 1597837882751,
     "user": {
      "displayName": "Anamay tamrakar",
      "photoUrl": "https://lh3.googleusercontent.com/a-/AOh14GhquhLUHnKEDe6-3g6DT_G8Wu17P9ZKYAQbxLx7qw=s64",
      "userId": "03768491071577504839"
     },
     "user_tz": -330
    },
    "id": "zJ504QDORwxj",
    "outputId": "0bf81be6-4878-476a-e4ea-17754fc6e380"
   },
   "outputs": [
    {
     "data": {
      "text/plain": [
       "4"
      ]
     },
     "execution_count": 15,
     "metadata": {
      "tags": []
     },
     "output_type": "execute_result"
    }
   ],
   "source": [
    "\n",
    "index_from = 3\n",
    "imdb_wordindex = {key:value + index_from for key, value in imdb_wordindex.items()}\n",
    "imdb_wordindex['the']"
   ]
  },
  {
   "cell_type": "code",
   "execution_count": 16,
   "metadata": {
    "colab": {
     "base_uri": "https://localhost:8080/",
     "height": 1000
    },
    "colab_type": "code",
    "executionInfo": {
     "elapsed": 8304,
     "status": "ok",
     "timestamp": 1597837882753,
     "user": {
      "displayName": "Anamay tamrakar",
      "photoUrl": "https://lh3.googleusercontent.com/a-/AOh14GhquhLUHnKEDe6-3g6DT_G8Wu17P9ZKYAQbxLx7qw=s64",
      "userId": "03768491071577504839"
     },
     "user_tz": -330
    },
    "id": "9Jt1OWiT4Blr",
    "outputId": "30c91688-e987-4a73-c1f7-f8ca969c7f9a"
   },
   "outputs": [
    {
     "data": {
      "text/plain": [
       "['this',\n",
       " 'is',\n",
       " 'a',\n",
       " 'wonderful',\n",
       " 'movie',\n",
       " 'with',\n",
       " 'a',\n",
       " 'fun',\n",
       " 'clever',\n",
       " 'story',\n",
       " 'and',\n",
       " 'the',\n",
       " 'dynamics',\n",
       " 'of',\n",
       " 'culture',\n",
       " 'differences',\n",
       " 'and',\n",
       " 'the',\n",
       " 'running',\n",
       " 'theme',\n",
       " 'of',\n",
       " \"what's\",\n",
       " 'important',\n",
       " 'in',\n",
       " 'life',\n",
       " 'make',\n",
       " 'this',\n",
       " 'a',\n",
       " 'very',\n",
       " 'under',\n",
       " 'appreciated',\n",
       " 'movie',\n",
       " \"don't\",\n",
       " 'let',\n",
       " 'the',\n",
       " 'of',\n",
       " 'the',\n",
       " 'world',\n",
       " 'you',\n",
       " 'from',\n",
       " 'seeing',\n",
       " 'this',\n",
       " 'keaton',\n",
       " 'has',\n",
       " 'wonderful',\n",
       " 'moments',\n",
       " 'and',\n",
       " 'i',\n",
       " 'wonder',\n",
       " 'at',\n",
       " 'the',\n",
       " 'fact',\n",
       " 'that',\n",
       " 'comedy',\n",
       " 'is',\n",
       " 'never',\n",
       " 'appreciated',\n",
       " 'because',\n",
       " 'actors',\n",
       " 'like',\n",
       " 'keaton',\n",
       " 'make',\n",
       " 'going',\n",
       " 'from',\n",
       " 'humor',\n",
       " 'to',\n",
       " 'serious',\n",
       " 'bits',\n",
       " 'look',\n",
       " 'tremendously',\n",
       " 'easy',\n",
       " 'great',\n",
       " 'movie',\n",
       " 'all',\n",
       " 'around']"
      ]
     },
     "execution_count": 16,
     "metadata": {
      "tags": []
     },
     "output_type": "execute_result"
    }
   ],
   "source": [
    "inverted_word = {value: key for key, value in imdb_wordindex.items()}\n",
    "[inverted_word[index] for index in X_train[100] if index > index_from]"
   ]
  },
  {
   "cell_type": "markdown",
   "metadata": {
    "colab_type": "text",
    "id": "WLGABrJoVZe6"
   },
   "source": [
    "Get the sentiment for the above sentence\n",
    "- positive (1)\n",
    "- negative (0)"
   ]
  },
  {
   "cell_type": "code",
   "execution_count": 17,
   "metadata": {
    "colab": {
     "base_uri": "https://localhost:8080/",
     "height": 34
    },
    "colab_type": "code",
    "executionInfo": {
     "elapsed": 8288,
     "status": "ok",
     "timestamp": 1597837882754,
     "user": {
      "displayName": "Anamay tamrakar",
      "photoUrl": "https://lh3.googleusercontent.com/a-/AOh14GhquhLUHnKEDe6-3g6DT_G8Wu17P9ZKYAQbxLx7qw=s64",
      "userId": "03768491071577504839"
     },
     "user_tz": -330
    },
    "id": "XDyQGJT0Ve-a",
    "outputId": "757c3891-fd4f-4d61-aae8-f91cbbbb44eb"
   },
   "outputs": [
    {
     "data": {
      "text/plain": [
       "1"
      ]
     },
     "execution_count": 17,
     "metadata": {
      "tags": []
     },
     "output_type": "execute_result"
    }
   ],
   "source": [
    "\n",
    "y_train[100]\n",
    "# confirmed that the review is bad and the label also confirmed the same"
   ]
  },
  {
   "cell_type": "markdown",
   "metadata": {
    "colab_type": "text",
    "id": "BmCjr8miXIWB"
   },
   "source": [
    "### Define model\n",
    "- Defining a Sequential Model"
   ]
  },
  {
   "cell_type": "code",
   "execution_count": 26,
   "metadata": {
    "colab": {},
    "colab_type": "code",
    "executionInfo": {
     "elapsed": 1254,
     "status": "ok",
     "timestamp": 1597838152807,
     "user": {
      "displayName": "Anamay tamrakar",
      "photoUrl": "https://lh3.googleusercontent.com/a-/AOh14GhquhLUHnKEDe6-3g6DT_G8Wu17P9ZKYAQbxLx7qw=s64",
      "userId": "03768491071577504839"
     },
     "user_tz": -330
    },
    "id": "Np5GxT1caFEq"
   },
   "outputs": [],
   "source": [
    "\n",
    "\n",
    "vocabulary = 10000\n",
    "max_words = 300\n",
    "\n",
    "model = Sequential()\n",
    "model.add(Embedding(vocabulary, 100, input_length=max_words))\n",
    "model.add(LSTM(100,return_sequences= True))\n",
    "dense_layer = Dense(100, activation='relu')\n",
    "model.add(TimeDistributed(dense_layer))\n",
    "model.add(Flatten())\n",
    "model.add(Dense(1, activation='sigmoid'))"
   ]
  },
  {
   "cell_type": "markdown",
   "metadata": {
    "colab_type": "text",
    "id": "Hc4bknOobDby"
   },
   "source": [
    "### Compile the model"
   ]
  },
  {
   "cell_type": "code",
   "execution_count": 27,
   "metadata": {
    "colab": {},
    "colab_type": "code",
    "executionInfo": {
     "elapsed": 1360,
     "status": "ok",
     "timestamp": 1597838159392,
     "user": {
      "displayName": "Anamay tamrakar",
      "photoUrl": "https://lh3.googleusercontent.com/a-/AOh14GhquhLUHnKEDe6-3g6DT_G8Wu17P9ZKYAQbxLx7qw=s64",
      "userId": "03768491071577504839"
     },
     "user_tz": -330
    },
    "id": "jw4RJ0CQbwFY"
   },
   "outputs": [],
   "source": [
    "\n",
    "model.compile(optimizer='adam', loss='binary_crossentropy', metrics='accuracy')"
   ]
  },
  {
   "cell_type": "markdown",
   "metadata": {
    "colab_type": "text",
    "id": "8sEzwazqbz3T"
   },
   "source": [
    "### Print model summary"
   ]
  },
  {
   "cell_type": "code",
   "execution_count": 28,
   "metadata": {
    "colab": {
     "base_uri": "https://localhost:8080/",
     "height": 340
    },
    "colab_type": "code",
    "executionInfo": {
     "elapsed": 1298,
     "status": "ok",
     "timestamp": 1597838168224,
     "user": {
      "displayName": "Anamay tamrakar",
      "photoUrl": "https://lh3.googleusercontent.com/a-/AOh14GhquhLUHnKEDe6-3g6DT_G8Wu17P9ZKYAQbxLx7qw=s64",
      "userId": "03768491071577504839"
     },
     "user_tz": -330
    },
    "id": "6Hx1yxwlb2Ue",
    "outputId": "646b2aa0-a06a-4b80-abaf-1fc04194aaa8"
   },
   "outputs": [
    {
     "name": "stdout",
     "output_type": "stream",
     "text": [
      "Model: \"sequential_1\"\n",
      "_________________________________________________________________\n",
      "Layer (type)                 Output Shape              Param #   \n",
      "=================================================================\n",
      "embedding_1 (Embedding)      (None, 300, 100)          1000000   \n",
      "_________________________________________________________________\n",
      "lstm_1 (LSTM)                (None, 300, 100)          80400     \n",
      "_________________________________________________________________\n",
      "time_distributed_1 (TimeDist (None, 300, 100)          10100     \n",
      "_________________________________________________________________\n",
      "flatten_1 (Flatten)          (None, 30000)             0         \n",
      "_________________________________________________________________\n",
      "dense_3 (Dense)              (None, 1)                 30001     \n",
      "=================================================================\n",
      "Total params: 1,120,501\n",
      "Trainable params: 1,120,501\n",
      "Non-trainable params: 0\n",
      "_________________________________________________________________\n",
      "None\n"
     ]
    }
   ],
   "source": [
    "\n",
    "print(model.summary())"
   ]
  },
  {
   "cell_type": "markdown",
   "metadata": {
    "colab_type": "text",
    "id": "bmkolKP4b-U6"
   },
   "source": [
    "### Fit the model"
   ]
  },
  {
   "cell_type": "code",
   "execution_count": 31,
   "metadata": {
    "colab": {
     "base_uri": "https://localhost:8080/",
     "height": 204
    },
    "colab_type": "code",
    "executionInfo": {
     "elapsed": 42709,
     "status": "ok",
     "timestamp": 1597838300880,
     "user": {
      "displayName": "Anamay tamrakar",
      "photoUrl": "https://lh3.googleusercontent.com/a-/AOh14GhquhLUHnKEDe6-3g6DT_G8Wu17P9ZKYAQbxLx7qw=s64",
      "userId": "03768491071577504839"
     },
     "user_tz": -330
    },
    "id": "vRg3KFXLcAkk",
    "outputId": "1fbf34a7-90cb-411b-cf9a-fe815a5e871d"
   },
   "outputs": [
    {
     "name": "stdout",
     "output_type": "stream",
     "text": [
      "Epoch 1/5\n",
      "298/298 [==============================] - 8s 28ms/step - loss: 0.1743 - accuracy: 0.9344\n",
      "Epoch 2/5\n",
      "298/298 [==============================] - 8s 28ms/step - loss: 0.0992 - accuracy: 0.9637\n",
      "Epoch 3/5\n",
      "298/298 [==============================] - 8s 28ms/step - loss: 0.0602 - accuracy: 0.9794\n",
      "Epoch 4/5\n",
      "298/298 [==============================] - 8s 28ms/step - loss: 0.0367 - accuracy: 0.9863\n",
      "Epoch 5/5\n",
      "298/298 [==============================] - 8s 28ms/step - loss: 0.0295 - accuracy: 0.9902\n"
     ]
    },
    {
     "data": {
      "text/plain": [
       "<tensorflow.python.keras.callbacks.History at 0x7f23960b75c0>"
      ]
     },
     "execution_count": 31,
     "metadata": {
      "tags": []
     },
     "output_type": "execute_result"
    }
   ],
   "source": [
    "\n",
    "model.fit(X_train_padded, y_train, epochs=5, batch_size=64)"
   ]
  },
  {
   "cell_type": "markdown",
   "metadata": {
    "colab_type": "text",
    "id": "bwLl54MXnkEA"
   },
   "source": [
    "### Evaluating model"
   ]
  },
  {
   "cell_type": "code",
   "execution_count": 33,
   "metadata": {
    "colab": {
     "base_uri": "https://localhost:8080/",
     "height": 51
    },
    "colab_type": "code",
    "executionInfo": {
     "elapsed": 5178,
     "status": "ok",
     "timestamp": 1597838357357,
     "user": {
      "displayName": "Anamay tamrakar",
      "photoUrl": "https://lh3.googleusercontent.com/a-/AOh14GhquhLUHnKEDe6-3g6DT_G8Wu17P9ZKYAQbxLx7qw=s64",
      "userId": "03768491071577504839"
     },
     "user_tz": -330
    },
    "id": "EUqY-bD8RaDR",
    "outputId": "fbed0156-892f-42da-884c-c8320b0217ce"
   },
   "outputs": [
    {
     "name": "stdout",
     "output_type": "stream",
     "text": [
      "Score: 0.7076\n",
      "Accuracy: 0.8644\n"
     ]
    }
   ],
   "source": [
    "\n",
    "scores, accuracy = model.evaluate(X_test_padded, y_test, verbose=0)\n",
    "print(\"Score: {:.4f}\".format(scores))\n",
    "print(\"Accuracy: {:.4f}\".format(accuracy))"
   ]
  },
  {
   "cell_type": "markdown",
   "metadata": {
    "colab_type": "text",
    "id": "h2amr1tJn9Jz"
   },
   "source": [
    "### Predict on one sample"
   ]
  },
  {
   "cell_type": "code",
   "execution_count": 34,
   "metadata": {
    "colab": {},
    "colab_type": "code",
    "executionInfo": {
     "elapsed": 1306,
     "status": "ok",
     "timestamp": 1597838455107,
     "user": {
      "displayName": "Anamay tamrakar",
      "photoUrl": "https://lh3.googleusercontent.com/a-/AOh14GhquhLUHnKEDe6-3g6DT_G8Wu17P9ZKYAQbxLx7qw=s64",
      "userId": "03768491071577504839"
     },
     "user_tz": -330
    },
    "id": "Wl4idfWR_A8E"
   },
   "outputs": [],
   "source": [
    "#### Add your code here ####\n",
    "goodsample = \"i liked the movie\"\n",
    "badsample = \"i did not like this movie\""
   ]
  },
  {
   "cell_type": "code",
   "execution_count": 39,
   "metadata": {
    "colab": {
     "base_uri": "https://localhost:8080/",
     "height": 85
    },
    "colab_type": "code",
    "executionInfo": {
     "elapsed": 1667,
     "status": "ok",
     "timestamp": 1597838601605,
     "user": {
      "displayName": "Anamay tamrakar",
      "photoUrl": "https://lh3.googleusercontent.com/a-/AOh14GhquhLUHnKEDe6-3g6DT_G8Wu17P9ZKYAQbxLx7qw=s64",
      "userId": "03768491071577504839"
     },
     "user_tz": -330
    },
    "id": "pdbXlqq17W6a",
    "outputId": "0b1f5075-1cc7-43ef-c67b-c315bb1aee07"
   },
   "outputs": [
    {
     "name": "stdout",
     "output_type": "stream",
     "text": [
      "Review: i liked the movie\n",
      "\tSentiment: positive\n",
      "Review: i did not like this movie\n",
      "\tSentiment: negative\n"
     ]
    }
   ],
   "source": [
    "from tensorflow.keras.preprocessing.sequence import pad_sequences\n",
    "for review in [goodsample, badsample]:\n",
    "    encoded_review = []\n",
    "    review_split = review.split(\" \")\n",
    "    for word in review_split:\n",
    "        encoded_review.append(imdb_wordindex[word])\n",
    "    review_padded = pad_sequences([encoded_review], maxlen=300)\n",
    "    pred = model.predict(review_padded)\n",
    "    if pred > 0.5:\n",
    "        sentiment = 'positive'\n",
    "    else:\n",
    "        sentiment = 'negative'\n",
    "    print(\"Review: {0}\\n\\tSentiment: {1}\".format(review, sentiment))"
   ]
  }
 ],
 "metadata": {
  "accelerator": "GPU",
  "colab": {
   "collapsed_sections": [],
   "name": "Sequential Models in NLP - Sentiment Classification.ipynb",
   "provenance": [],
   "toc_visible": true
  },
  "kernelspec": {
   "display_name": "Python 3",
   "language": "python",
   "name": "python3"
  },
  "language_info": {
   "codemirror_mode": {
    "name": "ipython",
    "version": 3
   },
   "file_extension": ".py",
   "mimetype": "text/x-python",
   "name": "python",
   "nbconvert_exporter": "python",
   "pygments_lexer": "ipython3",
   "version": "3.7.7"
  }
 },
 "nbformat": 4,
 "nbformat_minor": 1
}
